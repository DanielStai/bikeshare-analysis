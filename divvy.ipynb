{
 "cells": [
  {
   "cell_type": "markdown",
   "metadata": {},
   "source": [
    "# Bikeshare data analysis\n",
    "\n",
    "This is an analysis of bike trip data from a company in Chicago, Divvy. The financial analysts have come to the conclusion that members are more profitable to the company than casual riders. This study is commissioned by the marketing director Lily Moreno who wants to launch a campaign targetting to convert casual users to members. This analysis aims to look at the different ways casuals and members use the service. \n",
    "\n",
    "This notebook documents the ask, prepare, process, analyze, share phases of the data analysis cycle."
   ]
  },
  {
   "cell_type": "code",
   "execution_count": 1,
   "metadata": {},
   "outputs": [],
   "source": [
    "#importing the required modules\n",
    "\n",
    "import pandas as pd\n",
    "from datetime import datetime "
   ]
  },
  {
   "cell_type": "code",
   "execution_count": 3,
   "metadata": {},
   "outputs": [],
   "source": [
    "# Load the data. The files are available in the data folder in the google drive link provided in the README.\n",
    "\n",
    "january_data = pd.read_csv('trip_data/january2021.csv')\n",
    "feb_data = pd.read_csv('trip_data/feb2021.csv')\n",
    "march_data = pd.read_csv('trip_data/march2021.csv')\n",
    "april_data = pd.read_csv('trip_data/april2021.csv')\n",
    "may_data = pd.read_csv('trip_data/may2021.csv')\n",
    "june_data = pd.read_csv('trip_data/june2021.csv')\n",
    "july_data = pd.read_csv('trip_data/july2021.csv')\n",
    "august_data = pd.read_csv('trip_data/august2021.csv')\n",
    "september_data = pd.read_csv('trip_data/september2021.csv')\n",
    "october_data = pd.read_csv('trip_data/october2021.csv')\n",
    "november_data = pd.read_csv('trip_data/november2021.csv')\n",
    "december_data = pd.read_csv('trip_data/december2021.csv')"
   ]
  },
  {
   "cell_type": "code",
   "execution_count": null,
   "metadata": {},
   "outputs": [],
   "source": [
    "# Combine the data into one dataframe.\n",
    "whole_year_data = pd.concat([january_data, feb_data, march_data, april_data, may_data, june_data, july_data, august_data, september_data, october_data, november_data, december_data])"
   ]
  },
  {
   "cell_type": "code",
   "execution_count": 9,
   "metadata": {},
   "outputs": [],
   "source": [
    "# Drop the columns that are not needed.\n",
    "modified_year_data = whole_year_data.drop(['start_station_id', 'end_station_id', 'start_lat', 'start_lng', 'end_lat', 'end_lng'], axis=1)"
   ]
  },
  {
   "cell_type": "code",
   "execution_count": null,
   "metadata": {},
   "outputs": [],
   "source": [
    "#Check the data type of the columns and change the data types to the correct data type.\n",
    "\n",
    "modified_year_data.dtypes\n",
    "modified_year_data['started_at'] = pd.to_datetime(modified_year_data['started_at'])\n",
    "modified_year_data['ended_at'] = pd.to_datetime(modified_year_data['ended_at'])"
   ]
  },
  {
   "cell_type": "code",
   "execution_count": null,
   "metadata": {},
   "outputs": [],
   "source": [
    "#Creating a new column for duration using 'started at' and 'ended at' columns\n",
    "\n",
    "modified_year_data['duration'] = modified_year_data['ended_at'] - modified_year_data['started_at']\n",
    "\n",
    "#Convert the timedelta object created to a float data type to enable easy manipulation of the same\n",
    "modified_year_data['duration'] = modified_year_data['duration'].dt.total_seconds()"
   ]
  }
 ],
 "metadata": {
  "interpreter": {
   "hash": "b73fa19d89c690cd7f56daf533dc6fa306a624b802f7fb7492541b8f373f1398"
  },
  "kernelspec": {
   "display_name": "Python 3.10.4 64-bit",
   "language": "python",
   "name": "python3"
  },
  "language_info": {
   "codemirror_mode": {
    "name": "ipython",
    "version": 3
   },
   "file_extension": ".py",
   "mimetype": "text/x-python",
   "name": "python",
   "nbconvert_exporter": "python",
   "pygments_lexer": "ipython3",
   "version": "3.10.4"
  },
  "orig_nbformat": 4
 },
 "nbformat": 4,
 "nbformat_minor": 2
}
