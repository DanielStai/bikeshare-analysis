{
 "cells": [
  {
   "cell_type": "markdown",
   "metadata": {},
   "source": [
    "# Bikeshare data analysis\n",
    "\n",
    "This is an analysis of bike trip data from a company in Chicago, Divvy. The financial analysts have come to the conclusion that members are more profitable to the company than casual riders. This study is commissioned by the marketing director Lily Moreno who wants to launch a campaign targetting to convert casual users to members. This analysis aims to look at the different ways casuals and members use the service. \n",
    "\n",
    "This notebook documents the ask, prepare, process, analyze, share phases of the data analysis cycle.\n",
    "\n",
    "Some of the files used especially the trip_data folder are huge so here's a link to the data that you can download and reproduce this analysis. https://drive.google.com/drive/folders/1eh7afaC4Q_8OqkOaKh-XfzoI_Ei1OF9V?usp=sharing"
   ]
  },
  {
   "cell_type": "code",
   "execution_count": 2,
   "metadata": {},
   "outputs": [],
   "source": [
    "#importing the required modules\n",
    "\n",
    "import pandas as pd\n",
    "from datetime import datetime "
   ]
  },
  {
   "cell_type": "code",
   "execution_count": 3,
   "metadata": {},
   "outputs": [],
   "source": [
    "# Load the data. The files are available in the data folder in the google drive link provided in the README.\n",
    "\n",
    "january_data = pd.read_csv('trip_data/january2021.csv')\n",
    "feb_data = pd.read_csv('trip_data/feb2021.csv')\n",
    "march_data = pd.read_csv('trip_data/march2021.csv')\n",
    "april_data = pd.read_csv('trip_data/april2021.csv')\n",
    "may_data = pd.read_csv('trip_data/may2021.csv')\n",
    "june_data = pd.read_csv('trip_data/june2021.csv')\n",
    "july_data = pd.read_csv('trip_data/july2021.csv')\n",
    "august_data = pd.read_csv('trip_data/august2021.csv')\n",
    "september_data = pd.read_csv('trip_data/september2021.csv')\n",
    "october_data = pd.read_csv('trip_data/october2021.csv')\n",
    "november_data = pd.read_csv('trip_data/november2021.csv')\n",
    "december_data = pd.read_csv('trip_data/december2021.csv')"
   ]
  },
  {
   "cell_type": "code",
   "execution_count": 4,
   "metadata": {},
   "outputs": [],
   "source": [
    "# Combine the data into one dataframe.\n",
    "whole_year_data = pd.concat([january_data, feb_data, march_data, april_data, may_data, june_data, july_data, august_data, september_data, october_data, november_data, december_data])"
   ]
  },
  {
   "cell_type": "code",
   "execution_count": 5,
   "metadata": {},
   "outputs": [],
   "source": [
    "# Drop the columns that are not needed.\n",
    "modified_year_data = whole_year_data.drop(['start_station_id', 'end_station_id', 'start_lat', 'start_lng', 'end_lat', 'end_lng'], axis=1)"
   ]
  },
  {
   "cell_type": "code",
   "execution_count": 6,
   "metadata": {},
   "outputs": [],
   "source": [
    "#Check the data type of the columns and change the data types to the correct data type.\n",
    "\n",
    "modified_year_data.dtypes\n",
    "modified_year_data['started_at'] = pd.to_datetime(modified_year_data['started_at'])\n",
    "modified_year_data['ended_at'] = pd.to_datetime(modified_year_data['ended_at'])"
   ]
  },
  {
   "cell_type": "code",
   "execution_count": 7,
   "metadata": {},
   "outputs": [],
   "source": [
    "#Creating a new column for duration using 'started at' and 'ended at' columns\n",
    "\n",
    "modified_year_data['duration'] = modified_year_data['ended_at'] - modified_year_data['started_at']\n",
    "\n",
    "#Convert the timedelta object created to a float data type to enable easy manipulation of the same\n",
    "modified_year_data['duration'] = modified_year_data['duration'].dt.total_seconds()"
   ]
  },
  {
   "cell_type": "code",
   "execution_count": 12,
   "metadata": {},
   "outputs": [
    {
     "data": {
      "text/html": [
       "<div>\n",
       "<style scoped>\n",
       "    .dataframe tbody tr th:only-of-type {\n",
       "        vertical-align: middle;\n",
       "    }\n",
       "\n",
       "    .dataframe tbody tr th {\n",
       "        vertical-align: top;\n",
       "    }\n",
       "\n",
       "    .dataframe thead th {\n",
       "        text-align: right;\n",
       "    }\n",
       "</style>\n",
       "<table border=\"1\" class=\"dataframe\">\n",
       "  <thead>\n",
       "    <tr style=\"text-align: right;\">\n",
       "      <th></th>\n",
       "      <th>ride_id</th>\n",
       "      <th>rideable_type</th>\n",
       "      <th>started_at</th>\n",
       "      <th>ended_at</th>\n",
       "      <th>start_station_name</th>\n",
       "      <th>end_station_name</th>\n",
       "      <th>member_casual</th>\n",
       "      <th>duration</th>\n",
       "    </tr>\n",
       "  </thead>\n",
       "  <tbody>\n",
       "    <tr>\n",
       "      <th>0</th>\n",
       "      <td>E19E6F1B8D4C42ED</td>\n",
       "      <td>electric_bike</td>\n",
       "      <td>2021-01-23 16:14:19</td>\n",
       "      <td>2021-01-23 16:24:44</td>\n",
       "      <td>California Ave &amp; Cortez St</td>\n",
       "      <td>NaN</td>\n",
       "      <td>member</td>\n",
       "      <td>625.0</td>\n",
       "    </tr>\n",
       "    <tr>\n",
       "      <th>1</th>\n",
       "      <td>DC88F20C2C55F27F</td>\n",
       "      <td>electric_bike</td>\n",
       "      <td>2021-01-27 18:43:08</td>\n",
       "      <td>2021-01-27 18:47:12</td>\n",
       "      <td>California Ave &amp; Cortez St</td>\n",
       "      <td>NaN</td>\n",
       "      <td>member</td>\n",
       "      <td>244.0</td>\n",
       "    </tr>\n",
       "    <tr>\n",
       "      <th>2</th>\n",
       "      <td>EC45C94683FE3F27</td>\n",
       "      <td>electric_bike</td>\n",
       "      <td>2021-01-21 22:35:54</td>\n",
       "      <td>2021-01-21 22:37:14</td>\n",
       "      <td>California Ave &amp; Cortez St</td>\n",
       "      <td>NaN</td>\n",
       "      <td>member</td>\n",
       "      <td>80.0</td>\n",
       "    </tr>\n",
       "    <tr>\n",
       "      <th>3</th>\n",
       "      <td>4FA453A75AE377DB</td>\n",
       "      <td>electric_bike</td>\n",
       "      <td>2021-01-07 13:31:13</td>\n",
       "      <td>2021-01-07 13:42:55</td>\n",
       "      <td>California Ave &amp; Cortez St</td>\n",
       "      <td>NaN</td>\n",
       "      <td>member</td>\n",
       "      <td>702.0</td>\n",
       "    </tr>\n",
       "    <tr>\n",
       "      <th>4</th>\n",
       "      <td>BE5E8EB4E7263A0B</td>\n",
       "      <td>electric_bike</td>\n",
       "      <td>2021-01-23 02:24:02</td>\n",
       "      <td>2021-01-23 02:24:45</td>\n",
       "      <td>California Ave &amp; Cortez St</td>\n",
       "      <td>NaN</td>\n",
       "      <td>casual</td>\n",
       "      <td>43.0</td>\n",
       "    </tr>\n",
       "  </tbody>\n",
       "</table>\n",
       "</div>"
      ],
      "text/plain": [
       "            ride_id  rideable_type          started_at            ended_at  \\\n",
       "0  E19E6F1B8D4C42ED  electric_bike 2021-01-23 16:14:19 2021-01-23 16:24:44   \n",
       "1  DC88F20C2C55F27F  electric_bike 2021-01-27 18:43:08 2021-01-27 18:47:12   \n",
       "2  EC45C94683FE3F27  electric_bike 2021-01-21 22:35:54 2021-01-21 22:37:14   \n",
       "3  4FA453A75AE377DB  electric_bike 2021-01-07 13:31:13 2021-01-07 13:42:55   \n",
       "4  BE5E8EB4E7263A0B  electric_bike 2021-01-23 02:24:02 2021-01-23 02:24:45   \n",
       "\n",
       "           start_station_name end_station_name member_casual  duration  \n",
       "0  California Ave & Cortez St              NaN        member     625.0  \n",
       "1  California Ave & Cortez St              NaN        member     244.0  \n",
       "2  California Ave & Cortez St              NaN        member      80.0  \n",
       "3  California Ave & Cortez St              NaN        member     702.0  \n",
       "4  California Ave & Cortez St              NaN        casual      43.0  "
      ]
     },
     "execution_count": 12,
     "metadata": {},
     "output_type": "execute_result"
    }
   ],
   "source": [
    "modified_year_data[\"day\"] = modified_year_data['started_at'].map(lambda x: x.day)\n",
    "modified_year_data[\"month\"] = modified_year_data['started_at'].map(lambda x: x.month)\n",
    "modified_year_data[\"year\"] = modified_year_data['started_at'].map(lambda x: x.year)\n",
    "modified_year_data.head()\n",
    "\n"
   ]
  }
 ],
 "metadata": {
  "interpreter": {
   "hash": "b73fa19d89c690cd7f56daf533dc6fa306a624b802f7fb7492541b8f373f1398"
  },
  "kernelspec": {
   "display_name": "Python 3.10.4 64-bit",
   "language": "python",
   "name": "python3"
  },
  "language_info": {
   "codemirror_mode": {
    "name": "ipython",
    "version": 3
   },
   "file_extension": ".py",
   "mimetype": "text/x-python",
   "name": "python",
   "nbconvert_exporter": "python",
   "pygments_lexer": "ipython3",
   "version": "3.10.4"
  },
  "orig_nbformat": 4
 },
 "nbformat": 4,
 "nbformat_minor": 2
}
