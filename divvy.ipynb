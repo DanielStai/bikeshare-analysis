{
 "cells": [
  {
   "cell_type": "markdown",
   "metadata": {},
   "source": [
    "# Bikeshare data analysis\n",
    "\n",
    "This is an analysis of bike trip data from a company in Chicago, Divvy. The financial analysts have come to the conclusion that members are more profitable to the company than casual riders. This study is commissioned by the marketing director Lily Moreno who wants to launch a campaign targetting to convert casual users to members. This analysis aims to look at the different ways casuals and members use the service. \n",
    "\n",
    "This notebook documents the ask, prepare, process, analyze, share phases of the data analysis cycle.\n",
    "\n",
    "Some of the files used especially the trip_data folder are huge so here's a link to the data that you can download and reproduce this analysis. https://drive.google.com/drive/folders/1eh7afaC4Q_8OqkOaKh-XfzoI_Ei1OF9V?usp=sharing"
   ]
  },
  {
   "cell_type": "code",
   "execution_count": 2,
   "metadata": {},
   "outputs": [],
   "source": [
    "#importing the required modules\n",
    "\n",
    "import pandas as pd\n",
    "from datetime import datetime "
   ]
  },
  {
   "cell_type": "code",
   "execution_count": 3,
   "metadata": {},
   "outputs": [],
   "source": [
    "# Load the data. The files are available in the data folder in the google drive link provided in the README.\n",
    "\n",
    "january_data = pd.read_csv('trip_data/january2021.csv')\n",
    "feb_data = pd.read_csv('trip_data/feb2021.csv')\n",
    "march_data = pd.read_csv('trip_data/march2021.csv')\n",
    "april_data = pd.read_csv('trip_data/april2021.csv')\n",
    "may_data = pd.read_csv('trip_data/may2021.csv')\n",
    "june_data = pd.read_csv('trip_data/june2021.csv')\n",
    "july_data = pd.read_csv('trip_data/july2021.csv')\n",
    "august_data = pd.read_csv('trip_data/august2021.csv')\n",
    "september_data = pd.read_csv('trip_data/september2021.csv')\n",
    "october_data = pd.read_csv('trip_data/october2021.csv')\n",
    "november_data = pd.read_csv('trip_data/november2021.csv')\n",
    "december_data = pd.read_csv('trip_data/december2021.csv')"
   ]
  },
  {
   "cell_type": "code",
   "execution_count": 4,
   "metadata": {},
   "outputs": [],
   "source": [
    "# Combine the data into one dataframe.\n",
    "whole_year_data = pd.concat([january_data, feb_data, march_data, april_data, may_data, june_data, july_data, august_data, september_data, october_data, november_data, december_data])"
   ]
  },
  {
   "cell_type": "code",
   "execution_count": 5,
   "metadata": {},
   "outputs": [],
   "source": [
    "# Drop the columns that are not needed.\n",
    "modified_year_data = whole_year_data.drop(['start_station_id', 'end_station_id', 'start_lat', 'start_lng', 'end_lat', 'end_lng'], axis=1)"
   ]
  },
  {
   "cell_type": "code",
   "execution_count": 6,
   "metadata": {},
   "outputs": [],
   "source": [
    "#Check the data type of the columns and change the data types to the correct data type.\n",
    "\n",
    "modified_year_data.dtypes\n",
    "modified_year_data['started_at'] = pd.to_datetime(modified_year_data['started_at'])\n",
    "modified_year_data['ended_at'] = pd.to_datetime(modified_year_data['ended_at'])"
   ]
  },
  {
   "cell_type": "code",
   "execution_count": 7,
   "metadata": {},
   "outputs": [],
   "source": [
    "#Creating a new column for duration using 'started at' and 'ended at' columns\n",
    "\n",
    "modified_year_data['duration'] = modified_year_data['ended_at'] - modified_year_data['started_at']\n",
    "\n",
    "#Convert the timedelta object created to a float data type to enable easy manipulation of the same\n",
    "modified_year_data['duration'] = modified_year_data['duration'].dt.total_seconds()"
   ]
  },
  {
   "cell_type": "code",
   "execution_count": 17,
   "metadata": {},
   "outputs": [
    {
     "data": {
      "text/html": [
       "<div>\n",
       "<style scoped>\n",
       "    .dataframe tbody tr th:only-of-type {\n",
       "        vertical-align: middle;\n",
       "    }\n",
       "\n",
       "    .dataframe tbody tr th {\n",
       "        vertical-align: top;\n",
       "    }\n",
       "\n",
       "    .dataframe thead th {\n",
       "        text-align: right;\n",
       "    }\n",
       "</style>\n",
       "<table border=\"1\" class=\"dataframe\">\n",
       "  <thead>\n",
       "    <tr style=\"text-align: right;\">\n",
       "      <th></th>\n",
       "      <th>ride_id</th>\n",
       "      <th>rideable_type</th>\n",
       "      <th>started_at</th>\n",
       "      <th>ended_at</th>\n",
       "      <th>start_station_name</th>\n",
       "      <th>end_station_name</th>\n",
       "      <th>member_casual</th>\n",
       "      <th>duration</th>\n",
       "      <th>day</th>\n",
       "      <th>month</th>\n",
       "      <th>year</th>\n",
       "      <th>day_of_week</th>\n",
       "    </tr>\n",
       "  </thead>\n",
       "  <tbody>\n",
       "    <tr>\n",
       "      <th>247535</th>\n",
       "      <td>847431F3D5353AB7</td>\n",
       "      <td>electric_bike</td>\n",
       "      <td>2021-12-12 13:36:55</td>\n",
       "      <td>2021-12-12 13:56:08</td>\n",
       "      <td>Canal St &amp; Madison St</td>\n",
       "      <td>NaN</td>\n",
       "      <td>casual</td>\n",
       "      <td>1153.0</td>\n",
       "      <td>12</td>\n",
       "      <td>12</td>\n",
       "      <td>2021</td>\n",
       "      <td>6</td>\n",
       "    </tr>\n",
       "    <tr>\n",
       "      <th>247536</th>\n",
       "      <td>CF407BBC3B9FAD63</td>\n",
       "      <td>electric_bike</td>\n",
       "      <td>2021-12-06 19:37:50</td>\n",
       "      <td>2021-12-06 19:44:51</td>\n",
       "      <td>Canal St &amp; Madison St</td>\n",
       "      <td>Kingsbury St &amp; Kinzie St</td>\n",
       "      <td>member</td>\n",
       "      <td>421.0</td>\n",
       "      <td>6</td>\n",
       "      <td>12</td>\n",
       "      <td>2021</td>\n",
       "      <td>0</td>\n",
       "    </tr>\n",
       "    <tr>\n",
       "      <th>247537</th>\n",
       "      <td>60BB69EBF5440E92</td>\n",
       "      <td>electric_bike</td>\n",
       "      <td>2021-12-02 08:57:04</td>\n",
       "      <td>2021-12-02 09:05:21</td>\n",
       "      <td>Canal St &amp; Madison St</td>\n",
       "      <td>Dearborn St &amp; Monroe St</td>\n",
       "      <td>member</td>\n",
       "      <td>497.0</td>\n",
       "      <td>2</td>\n",
       "      <td>12</td>\n",
       "      <td>2021</td>\n",
       "      <td>3</td>\n",
       "    </tr>\n",
       "    <tr>\n",
       "      <th>247538</th>\n",
       "      <td>C414F654A28635B8</td>\n",
       "      <td>electric_bike</td>\n",
       "      <td>2021-12-13 09:00:26</td>\n",
       "      <td>2021-12-13 09:14:39</td>\n",
       "      <td>Lawndale Ave &amp; 16th St</td>\n",
       "      <td>NaN</td>\n",
       "      <td>member</td>\n",
       "      <td>853.0</td>\n",
       "      <td>13</td>\n",
       "      <td>12</td>\n",
       "      <td>2021</td>\n",
       "      <td>0</td>\n",
       "    </tr>\n",
       "    <tr>\n",
       "      <th>247539</th>\n",
       "      <td>37AC57E34B2E7E97</td>\n",
       "      <td>classic_bike</td>\n",
       "      <td>2021-12-13 08:45:32</td>\n",
       "      <td>2021-12-13 08:49:09</td>\n",
       "      <td>Michigan Ave &amp; Jackson Blvd</td>\n",
       "      <td>Dearborn St &amp; Monroe St</td>\n",
       "      <td>member</td>\n",
       "      <td>217.0</td>\n",
       "      <td>13</td>\n",
       "      <td>12</td>\n",
       "      <td>2021</td>\n",
       "      <td>0</td>\n",
       "    </tr>\n",
       "  </tbody>\n",
       "</table>\n",
       "</div>"
      ],
      "text/plain": [
       "                 ride_id  rideable_type          started_at  \\\n",
       "247535  847431F3D5353AB7  electric_bike 2021-12-12 13:36:55   \n",
       "247536  CF407BBC3B9FAD63  electric_bike 2021-12-06 19:37:50   \n",
       "247537  60BB69EBF5440E92  electric_bike 2021-12-02 08:57:04   \n",
       "247538  C414F654A28635B8  electric_bike 2021-12-13 09:00:26   \n",
       "247539  37AC57E34B2E7E97   classic_bike 2021-12-13 08:45:32   \n",
       "\n",
       "                  ended_at           start_station_name  \\\n",
       "247535 2021-12-12 13:56:08        Canal St & Madison St   \n",
       "247536 2021-12-06 19:44:51        Canal St & Madison St   \n",
       "247537 2021-12-02 09:05:21        Canal St & Madison St   \n",
       "247538 2021-12-13 09:14:39       Lawndale Ave & 16th St   \n",
       "247539 2021-12-13 08:49:09  Michigan Ave & Jackson Blvd   \n",
       "\n",
       "                end_station_name member_casual  duration  day  month  year  \\\n",
       "247535                       NaN        casual    1153.0   12     12  2021   \n",
       "247536  Kingsbury St & Kinzie St        member     421.0    6     12  2021   \n",
       "247537   Dearborn St & Monroe St        member     497.0    2     12  2021   \n",
       "247538                       NaN        member     853.0   13     12  2021   \n",
       "247539   Dearborn St & Monroe St        member     217.0   13     12  2021   \n",
       "\n",
       "        day_of_week  \n",
       "247535            6  \n",
       "247536            0  \n",
       "247537            3  \n",
       "247538            0  \n",
       "247539            0  "
      ]
     },
     "execution_count": 17,
     "metadata": {},
     "output_type": "execute_result"
    }
   ],
   "source": [
    "#Split the 'started_at' column into day, day of week, month and year. This will make it easier to aggregate the data\n",
    "\n",
    "modified_year_data[\"day\"] = modified_year_data['started_at'].map(lambda x: x.day)\n",
    "modified_year_data[\"month\"] = modified_year_data['started_at'].map(lambda x: x.month)\n",
    "modified_year_data[\"year\"] = modified_year_data['started_at'].map(lambda x: x.year)\n",
    "modified_year_data[\"day_of_week\"] = modified_year_data['started_at'].dt.dayofweek\n",
    "\n"
   ]
  }
 ],
 "metadata": {
  "interpreter": {
   "hash": "b73fa19d89c690cd7f56daf533dc6fa306a624b802f7fb7492541b8f373f1398"
  },
  "kernelspec": {
   "display_name": "Python 3.10.4 64-bit",
   "language": "python",
   "name": "python3"
  },
  "language_info": {
   "codemirror_mode": {
    "name": "ipython",
    "version": 3
   },
   "file_extension": ".py",
   "mimetype": "text/x-python",
   "name": "python",
   "nbconvert_exporter": "python",
   "pygments_lexer": "ipython3",
   "version": "3.10.4"
  },
  "orig_nbformat": 4
 },
 "nbformat": 4,
 "nbformat_minor": 2
}
